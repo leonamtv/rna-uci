{
 "cells": [
  {
   "cell_type": "code",
   "execution_count": 1,
   "metadata": {},
   "outputs": [],
   "source": [
    "import numpy as np"
   ]
  },
  {
   "cell_type": "code",
   "execution_count": 6,
   "metadata": {},
   "outputs": [
    {
     "data": {
      "text/plain": [
       "array([0.9578651 , 0.76034815, 0.38645102, 0.52341329, 0.66851259,\n",
       "       0.02415224, 0.41414107, 0.47089224, 0.96678956, 0.36168529,\n",
       "       0.38194512, 0.26564383, 0.67672562, 0.61781231, 0.64525082,\n",
       "       0.91110036, 0.15732182, 0.08603116, 0.45387638, 0.01844465])"
      ]
     },
     "execution_count": 6,
     "metadata": {},
     "output_type": "execute_result"
    }
   ],
   "source": [
    "a = np.random.random((20))\n",
    "a"
   ]
  },
  {
   "cell_type": "code",
   "execution_count": 7,
   "metadata": {},
   "outputs": [
    {
     "data": {
      "text/plain": [
       "array([2.6061267 , 2.1390208 , 1.47174831, 1.68777871, 1.95133274,\n",
       "       1.02444627, 1.51307057, 1.6014224 , 2.62948909, 1.43574703,\n",
       "       1.46513167, 1.30427044, 1.96742507, 1.85486573, 1.90646515,\n",
       "       2.48705769, 1.17037221, 1.08984029, 1.57440335, 1.0186158 ])"
      ]
     },
     "execution_count": 7,
     "metadata": {},
     "output_type": "execute_result"
    }
   ],
   "source": [
    "np.exp(a)"
   ]
  },
  {
   "cell_type": "code",
   "execution_count": 9,
   "metadata": {},
   "outputs": [
    {
     "data": {
      "text/plain": [
       "array([1.9578651 , 1.76034815, 1.38645102, 1.52341329, 1.66851259,\n",
       "       1.02415224, 1.41414107, 1.47089224, 1.96678956, 1.36168529,\n",
       "       1.38194512, 1.26564383, 1.67672562, 1.61781231, 1.64525082,\n",
       "       1.91110036, 1.15732182, 1.08603116, 1.45387638, 1.01844465])"
      ]
     },
     "execution_count": 9,
     "metadata": {},
     "output_type": "execute_result"
    }
   ],
   "source": [
    "1 + a"
   ]
  },
  {
   "cell_type": "code",
   "execution_count": 10,
   "metadata": {},
   "outputs": [],
   "source": [
    "a = [ i for i in range(30) ]"
   ]
  },
  {
   "cell_type": "code",
   "execution_count": 14,
   "metadata": {},
   "outputs": [],
   "source": [
    "a = [ i / max(a) for i in a ]"
   ]
  },
  {
   "cell_type": "code",
   "execution_count": 16,
   "metadata": {},
   "outputs": [],
   "source": [
    "a = [ 1, 2, 3, 4, 5 ]\n",
    "b = [ 2, 2, 2, 2, 2 ]\n",
    "c = [ 4, 4, 4, 4, 4 ]"
   ]
  },
  {
   "cell_type": "code",
   "execution_count": 17,
   "metadata": {},
   "outputs": [
    {
     "ename": "TypeError",
     "evalue": "unsupported operand type(s) for /: 'list' and 'list'",
     "output_type": "error",
     "traceback": [
      "\u001b[0;31m---------------------------------------------------------------------------\u001b[0m",
      "\u001b[0;31mTypeError\u001b[0m                                 Traceback (most recent call last)",
      "\u001b[0;32m<ipython-input-17-aa3bb175b6d8>\u001b[0m in \u001b[0;36m<module>\u001b[0;34m\u001b[0m\n\u001b[0;32m----> 1\u001b[0;31m \u001b[0mc\u001b[0m  \u001b[0;34m/\u001b[0m \u001b[0mb\u001b[0m\u001b[0;34m\u001b[0m\u001b[0;34m\u001b[0m\u001b[0m\n\u001b[0m",
      "\u001b[0;31mTypeError\u001b[0m: unsupported operand type(s) for /: 'list' and 'list'"
     ]
    }
   ],
   "source": [
    "c  / b"
   ]
  }
 ],
 "metadata": {
  "kernelspec": {
   "display_name": "Python 3.7.7 64-bit ('ml37': conda)",
   "language": "python",
   "name": "python37764bitml37conda597b27ad1e484b189359d5fbee3b68e6"
  },
  "language_info": {
   "codemirror_mode": {
    "name": "ipython",
    "version": 3
   },
   "file_extension": ".py",
   "mimetype": "text/x-python",
   "name": "python",
   "nbconvert_exporter": "python",
   "pygments_lexer": "ipython3",
   "version": "3.7.8"
  }
 },
 "nbformat": 4,
 "nbformat_minor": 4
}
